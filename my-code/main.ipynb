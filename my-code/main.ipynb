{
 "cells": [
  {
   "cell_type": "code",
   "execution_count": 1,
   "metadata": {},
   "outputs": [
    {
     "name": "stdout",
     "output_type": "stream",
     "text": [
      "Requirement already satisfied: google-cloud-bigquery in c:\\users\\chorch\\anaconda3\\lib\\site-packages (1.15.0)\n",
      "Requirement already satisfied: google-resumable-media>=0.3.1 in c:\\users\\chorch\\anaconda3\\lib\\site-packages (from google-cloud-bigquery) (0.3.2)\n",
      "Requirement already satisfied: protobuf>=3.6.0 in c:\\users\\chorch\\anaconda3\\lib\\site-packages (from google-cloud-bigquery) (3.8.0)\n",
      "Requirement already satisfied: google-cloud-core<2.0dev,>=1.0.0 in c:\\users\\chorch\\anaconda3\\lib\\site-packages (from google-cloud-bigquery) (1.0.2)\n",
      "Requirement already satisfied: six in c:\\users\\chorch\\anaconda3\\lib\\site-packages (from google-resumable-media>=0.3.1->google-cloud-bigquery) (1.12.0)\n",
      "Requirement already satisfied: setuptools in c:\\users\\chorch\\anaconda3\\lib\\site-packages (from protobuf>=3.6.0->google-cloud-bigquery) (40.8.0)\n",
      "Requirement already satisfied: google-api-core<2.0.0dev,>=1.11.0 in c:\\users\\chorch\\anaconda3\\lib\\site-packages (from google-cloud-core<2.0dev,>=1.0.0->google-cloud-bigquery) (1.11.1)\n",
      "Requirement already satisfied: pytz in c:\\users\\chorch\\anaconda3\\lib\\site-packages (from google-api-core<2.0.0dev,>=1.11.0->google-cloud-core<2.0dev,>=1.0.0->google-cloud-bigquery) (2018.9)\n",
      "Requirement already satisfied: google-auth<2.0dev,>=0.4.0 in c:\\users\\chorch\\anaconda3\\lib\\site-packages (from google-api-core<2.0.0dev,>=1.11.0->google-cloud-core<2.0dev,>=1.0.0->google-cloud-bigquery) (1.6.3)\n",
      "Requirement already satisfied: googleapis-common-protos!=1.5.4,<2.0dev,>=1.5.3 in c:\\users\\chorch\\anaconda3\\lib\\site-packages (from google-api-core<2.0.0dev,>=1.11.0->google-cloud-core<2.0dev,>=1.0.0->google-cloud-bigquery) (1.6.0)\n",
      "Requirement already satisfied: requests<3.0.0dev,>=2.18.0 in c:\\users\\chorch\\anaconda3\\lib\\site-packages (from google-api-core<2.0.0dev,>=1.11.0->google-cloud-core<2.0dev,>=1.0.0->google-cloud-bigquery) (2.21.0)\n",
      "Requirement already satisfied: cachetools>=2.0.0 in c:\\users\\chorch\\anaconda3\\lib\\site-packages (from google-auth<2.0dev,>=0.4.0->google-api-core<2.0.0dev,>=1.11.0->google-cloud-core<2.0dev,>=1.0.0->google-cloud-bigquery) (3.1.1)\n",
      "Requirement already satisfied: rsa>=3.1.4 in c:\\users\\chorch\\anaconda3\\lib\\site-packages (from google-auth<2.0dev,>=0.4.0->google-api-core<2.0.0dev,>=1.11.0->google-cloud-core<2.0dev,>=1.0.0->google-cloud-bigquery) (4.0)\n",
      "Requirement already satisfied: pyasn1-modules>=0.2.1 in c:\\users\\chorch\\anaconda3\\lib\\site-packages (from google-auth<2.0dev,>=0.4.0->google-api-core<2.0.0dev,>=1.11.0->google-cloud-core<2.0dev,>=1.0.0->google-cloud-bigquery) (0.2.5)\n",
      "Requirement already satisfied: urllib3<1.25,>=1.21.1 in c:\\users\\chorch\\anaconda3\\lib\\site-packages (from requests<3.0.0dev,>=2.18.0->google-api-core<2.0.0dev,>=1.11.0->google-cloud-core<2.0dev,>=1.0.0->google-cloud-bigquery) (1.24.1)\n",
      "Requirement already satisfied: certifi>=2017.4.17 in c:\\users\\chorch\\anaconda3\\lib\\site-packages (from requests<3.0.0dev,>=2.18.0->google-api-core<2.0.0dev,>=1.11.0->google-cloud-core<2.0dev,>=1.0.0->google-cloud-bigquery) (2019.3.9)\n",
      "Requirement already satisfied: idna<2.9,>=2.5 in c:\\users\\chorch\\anaconda3\\lib\\site-packages (from requests<3.0.0dev,>=2.18.0->google-api-core<2.0.0dev,>=1.11.0->google-cloud-core<2.0dev,>=1.0.0->google-cloud-bigquery) (2.8)\n",
      "Requirement already satisfied: chardet<3.1.0,>=3.0.2 in c:\\users\\chorch\\anaconda3\\lib\\site-packages (from requests<3.0.0dev,>=2.18.0->google-api-core<2.0.0dev,>=1.11.0->google-cloud-core<2.0dev,>=1.0.0->google-cloud-bigquery) (3.0.4)\n",
      "Requirement already satisfied: pyasn1>=0.1.3 in c:\\users\\chorch\\anaconda3\\lib\\site-packages (from rsa>=3.1.4->google-auth<2.0dev,>=0.4.0->google-api-core<2.0.0dev,>=1.11.0->google-cloud-core<2.0dev,>=1.0.0->google-cloud-bigquery) (0.4.5)\n"
     ]
    }
   ],
   "source": [
    "import sys\n",
    "!{sys.executable} -m pip install google-cloud-bigquery"
   ]
  },
  {
   "cell_type": "code",
   "execution_count": 2,
   "metadata": {},
   "outputs": [],
   "source": [
    "import os\n",
    "os.environ[\"GOOGLE_APPLICATION_CREDENTIALS\"]=\"/Users/Chorch/Desktop/Work/IronHack/Clases/SQL/Ironhack Data Analytics.json\"\n",
    "from google.cloud import bigquery"
   ]
  },
  {
   "cell_type": "code",
   "execution_count": 5,
   "metadata": {},
   "outputs": [],
   "source": [
    "client = bigquery.Client()\n",
    "QUERY ='''\n",
    "CREATE TABLE `ironhack-data-analytics.car_dealership.spare_parts`(\n",
    "  part_id INT64, \n",
    "  manufacaturer STRING, \n",
    "  modelo STRING, \n",
    "  description STRING)\n",
    "'''\n"
   ]
  },
  {
   "cell_type": "code",
   "execution_count": 6,
   "metadata": {},
   "outputs": [],
   "source": [
    "query_x = client.query(query=QUERY) "
   ]
  },
  {
   "cell_type": "code",
   "execution_count": null,
   "metadata": {},
   "outputs": [],
   "source": []
  }
 ],
 "metadata": {
  "kernelspec": {
   "display_name": "Python 3",
   "language": "python",
   "name": "python3"
  },
  "language_info": {
   "codemirror_mode": {
    "name": "ipython",
    "version": 3
   },
   "file_extension": ".py",
   "mimetype": "text/x-python",
   "name": "python",
   "nbconvert_exporter": "python",
   "pygments_lexer": "ipython3",
   "version": "3.7.3"
  }
 },
 "nbformat": 4,
 "nbformat_minor": 2
}
